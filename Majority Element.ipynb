{
 "cells": [
  {
   "cell_type": "markdown",
   "metadata": {},
   "source": [
    "# Majority Element\n",
    "\n",
    "Design an efficient algorithm determine whether an array has a majority element, and, if so, to find that element. An array has a majority element if more than half of its entries are the same.\n",
    "\n",
    "For example, assuming classes `Turtle` and `Elephant` are defined:\n",
    "\n",
    "    [Turtle(), Elephant(), 42]\n",
    "\n",
    "does not have a majority element, but\n",
    "\n",
    "    the_turtle = Turtle()\n",
    "    [the_turtle, the_turtle, \"42\"]\n",
    "\n",
    "has a majority element, `the_turtle`.\n",
    "\n",
    "The elements of the array are not necessarily from some ordered domain like integers, and so there can be no comparisons of the form \"is `A[i] > A[j]`\". However you can answer questions of the form: \"is `A[i] == A[j]`?\" in constant time in Python.\n",
    "\n",
    "Please provide a rough estimate of the complexity of the algorithm you've implemented and why you believe it to be the most efficient solution. Refrain from using python's `collections.Counter` as your solution – there are better ways to do this."
   ]
  },
  {
   "cell_type": "code",
   "execution_count": null,
   "metadata": {},
   "outputs": [],
   "source": [
    "def majority_element(arr):\n",
    "    raise NotImplementedError()"
   ]
  },
  {
   "cell_type": "markdown",
   "metadata": {},
   "source": [
    "# Complexity estimation"
   ]
  },
  {
   "cell_type": "markdown",
   "metadata": {},
   "source": [
    "# Test cases"
   ]
  },
  {
   "cell_type": "code",
   "execution_count": null,
   "metadata": {},
   "outputs": [],
   "source": [
    "import random"
   ]
  },
  {
   "cell_type": "code",
   "execution_count": null,
   "metadata": {},
   "outputs": [],
   "source": [
    "assert(majority_element([42, 42, 42]) == 42)"
   ]
  },
  {
   "cell_type": "code",
   "execution_count": null,
   "metadata": {},
   "outputs": [],
   "source": [
    "assert(majority_element([1, 2, 3]) is None)"
   ]
  },
  {
   "cell_type": "code",
   "execution_count": null,
   "metadata": {},
   "outputs": [],
   "source": [
    "class Bear():\n",
    "    pass\n",
    "\n",
    "class Cat():\n",
    "    pass\n",
    "\n",
    "the_bear = Bear()\n",
    "test_list = random.choices([the_bear, Cat()], [10, 1], k=10000)\n",
    "\n",
    "assert(majority_element(test_list) == the_bear)"
   ]
  },
  {
   "cell_type": "code",
   "execution_count": null,
   "metadata": {},
   "outputs": [],
   "source": [
    "test_list = [random.random() for i in range(int(1e6) - 1)]\n",
    "\n",
    "assert(majority_element(test_list) is None)"
   ]
  },
  {
   "cell_type": "code",
   "execution_count": null,
   "metadata": {},
   "outputs": [],
   "source": [
    "test_list += [0.5 for i in range(int(1e6))]\n",
    "\n",
    "assert(majority_element(test_list) == 0.5)"
   ]
  }
 ],
 "metadata": {
  "kernelspec": {
   "display_name": "Python 3",
   "language": "python",
   "name": "python3"
  },
  "language_info": {
   "codemirror_mode": {
    "name": "ipython",
    "version": 3
   },
   "file_extension": ".py",
   "mimetype": "text/x-python",
   "name": "python",
   "nbconvert_exporter": "python",
   "pygments_lexer": "ipython3",
   "version": "3.7.0"
  }
 },
 "nbformat": 4,
 "nbformat_minor": 2
}
