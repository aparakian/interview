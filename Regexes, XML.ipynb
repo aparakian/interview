{
 "cells": [
  {
   "cell_type": "markdown",
   "metadata": {},
   "source": [
    "# Regular expressions\n",
    "\n",
    "Give a regular expression that detects hexadecimal numbers in a text, for example `0x0f4`, `0acdadecf822eeff32aca5830e438cb54aa722e3`, `8BADF00D` should be detected. Include a few test cases."
   ]
  },
  {
   "cell_type": "code",
   "execution_count": null,
   "metadata": {},
   "outputs": [],
   "source": []
  },
  {
   "cell_type": "markdown",
   "metadata": {},
   "source": [
    "# XML\n",
    "\n",
    "Write a function that given an XML document (as a string) returns the number of attributes for each occurrence of the most common tag type. For instance, if the “a” tag is the most common in the provided document, it should count the total number of attributes of all “a” tags in the document.\n",
    "\n",
    "See https://docs.python.org/3/library/xml.etree.elementtree.html to load XML"
   ]
  },
  {
   "cell_type": "code",
   "execution_count": null,
   "metadata": {},
   "outputs": [],
   "source": []
  }
 ],
 "metadata": {
  "kernelspec": {
   "display_name": "Python 3",
   "language": "python",
   "name": "python3"
  },
  "language_info": {
   "codemirror_mode": {
    "name": "ipython",
    "version": 3
   },
   "file_extension": ".py",
   "mimetype": "text/x-python",
   "name": "python",
   "nbconvert_exporter": "python",
   "pygments_lexer": "ipython3",
   "version": "3.7.0"
  }
 },
 "nbformat": 4,
 "nbformat_minor": 2
}
