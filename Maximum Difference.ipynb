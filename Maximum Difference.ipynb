{
 "cells": [
  {
   "cell_type": "markdown",
   "metadata": {},
   "source": [
    "# Maximum Difference\n",
    "\n",
    "Please write a function that given an array $A[1..n]$ of `int`s returns\n",
    "\n",
    "$$\n",
    "Max_{i=1..n,j<=i} \\left( A[i] - A[j] \\right)\n",
    "$$\n",
    "\n",
    "_Watch out `j<=i`, the larger element has to appear before the smaller number_"
   ]
  },
  {
   "cell_type": "code",
   "execution_count": null,
   "metadata": {},
   "outputs": [],
   "source": []
  }
 ],
 "metadata": {
  "kernelspec": {
   "display_name": "Python 3",
   "language": "python",
   "name": "python3"
  },
  "language_info": {
   "codemirror_mode": {
    "name": "ipython",
    "version": 3
   },
   "file_extension": ".py",
   "mimetype": "text/x-python",
   "name": "python",
   "nbconvert_exporter": "python",
   "pygments_lexer": "ipython3",
   "version": "3.6.10"
  }
 },
 "nbformat": 4,
 "nbformat_minor": 2
}
