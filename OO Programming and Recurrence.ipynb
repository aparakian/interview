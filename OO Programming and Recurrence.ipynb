{
 "cells": [
  {
   "cell_type": "markdown",
   "metadata": {},
   "source": [
    "# Class variables and instance variables\n",
    "\n",
    "Provide an example of class variables vs instance variables. Use a realistic use case."
   ]
  },
  {
   "cell_type": "code",
   "execution_count": null,
   "metadata": {},
   "outputs": [],
   "source": []
  },
  {
   "cell_type": "markdown",
   "metadata": {},
   "source": [
    "# Class design\n",
    "\n",
    "Write two classes, one to represent a rectangle, the second a square. They must have an appropriate constructor (width, height for the rectangle, width for the square) and area and perimeter calculation methods. Code duplication must be avoided as much as possible. Please explain your implementation choices."
   ]
  },
  {
   "cell_type": "code",
   "execution_count": null,
   "metadata": {},
   "outputs": [],
   "source": []
  },
  {
   "cell_type": "markdown",
   "metadata": {},
   "source": [
    "# Recursivity (or not)\n",
    "\n",
    "Here is the pseudo code of a function that is defined recursively:\n",
    "\n",
    "$$\n",
    "\\begin{align}\n",
    "f(0) & = 1 \\\\\n",
    "f(1) & = 3 \\\\\n",
    "f(n) & = 3 * f(n - 1) - f(n - 2) \\\\\n",
    "\\end{align}\n",
    "$$\n",
    "\n",
    "Provide an implementation for $f$. Bonus points for a non recursive implementation."
   ]
  },
  {
   "cell_type": "code",
   "execution_count": null,
   "metadata": {},
   "outputs": [],
   "source": []
  }
 ],
 "metadata": {
  "kernelspec": {
   "display_name": "Python 3",
   "language": "python",
   "name": "python3"
  },
  "language_info": {
   "codemirror_mode": {
    "name": "ipython",
    "version": 3
   },
   "file_extension": ".py",
   "mimetype": "text/x-python",
   "name": "python",
   "nbconvert_exporter": "python",
   "pygments_lexer": "ipython3",
   "version": "3.7.0"
  }
 },
 "nbformat": 4,
 "nbformat_minor": 2
}
